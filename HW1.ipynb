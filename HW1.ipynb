{
 "cells": [
  {
   "cell_type": "markdown",
   "metadata": {},
   "source": [
    "$$Assignment 1 - Regression$$"
   ]
  },
  {
   "cell_type": "markdown",
   "metadata": {},
   "source": [
    "## 介绍 :\n",
    "    在这个作业中，你将对数据集执行线性回归，并使用交叉验证来分析你的结果。\n",
    "    除了计算和应用封闭形式的解决方案之外，您还将从头开始为线性回归实现一个梯度下降算法。\n",
    "    和所有的作业一样，除非被明确告知，否则你不能使用任何违背作业“精神”的函数。\n",
    "    对于这个赋值，意味着任何线性回归函数。你可以使用统计和线性代数函数做类似的事情:"
   ]
  },
  {
   "cell_type": "markdown",
   "metadata": {},
   "source": [
    "## 一 . 理论\n",
    "    1. (10pts)考虑以下数据 :\n",
    "    Data = [[-2,-5,-3,0,-6,-2,1,5,-1,3]\n",
    "            [1,-4,1,3,11,5,0,-1,-3,1]]\n",
    "    (a) 使用最小二乘估计(LSE)计算线性回归的系数，其中第二个值(列)是因变量(待预测的值)，而第一列是唯一的特征。展示你的工作，记住添加一个偏差特征和标准化特征。使用所有的数据计算这个模型(不要担心分离成训练和测试集)。\n",
    "    (b) 利用sklearn确定系数和截距项。linear_model LinearRegression函数。\n",
    "\n",
    "    2. 对于函数g(x) = (x-1)**4，其中x为单值(非向量或矩阵):\n",
    "    (a) (3pts)相对于x的梯度是多少?展示你的作品来支持你的答案。\n",
    "    (b) (3pts) g(x)的全局最小值是多少?展示你的作品来支持你的答案。\n",
    "    (c) (3pts)使用matplotlib绘制x vs g(x)，并在您的报告中使用此图像。"
   ]
  },
  {
   "cell_type": "code",
   "execution_count": 1,
   "metadata": {},
   "outputs": [],
   "source": [
    "#1.(a) 代公式 w =(X.T*X)^(-1)*X.T*Y\n",
    "import numpy as np\n",
    "Data = np.array([[-2,-5,-3,0,-6,-2,1,5,-1,3],[1,-4,1,3,11,5,0,-1,-3,1]])\n",
    "X = np.vstack((np.ones((Data[0].shape[0])),Data[0])).T\n",
    "y = Data[1]\n",
    "theta0,theta1 = np.dot(np.dot(np.linalg.inv(np.dot(X.T,X)),X.T),y)"
   ]
  },
  {
   "cell_type": "code",
   "execution_count": 2,
   "metadata": {},
   "outputs": [
    {
     "data": {
      "text/plain": [
       "(0.9576923076923078, -0.4423076923076923)"
      ]
     },
     "execution_count": 2,
     "metadata": {},
     "output_type": "execute_result"
    }
   ],
   "source": [
    "theta0,theta1"
   ]
  },
  {
   "cell_type": "code",
   "execution_count": 3,
   "metadata": {},
   "outputs": [
    {
     "data": {
      "text/plain": [
       "(0.9576923076923076, -0.44230769230769235)"
      ]
     },
     "execution_count": 3,
     "metadata": {},
     "output_type": "execute_result"
    }
   ],
   "source": [
    "#1.(b) 调sklearn库\n",
    "from sklearn.linear_model import LinearRegression\n",
    "reg = LinearRegression()\n",
    "X = Data[0].reshape(-1,1)\n",
    "reg.fit(X,y)\n",
    "theta0,theta1 = reg.intercept_,*reg.coef_\n",
    "theta0,theta1"
   ]
  },
  {
   "cell_type": "code",
   "execution_count": 4,
   "metadata": {},
   "outputs": [
    {
     "data": {
      "text/plain": [
       "Text(0.5, 1.0, 'g(x) = (x-1)^4')"
      ]
     },
     "execution_count": 4,
     "metadata": {},
     "output_type": "execute_result"
    },
    {
     "data": {
      "image/png": "[encoded data removed]",
      "text/plain": [
       "<Figure size 432x288 with 1 Axes>"
      ]
     },
     "metadata": {
      "needs_background": "light"
     },
     "output_type": "display_data"
    }
   ],
   "source": [
    "#2.(c) 画g(x)图像\n",
    "import matplotlib.pyplot as plt\n",
    "x = np.linspace(-2,4,50)\n",
    "y = (x-1)**4\n",
    "plt.plot(x,y)\n",
    "plt.title('g(x) = (x-1)^4')"
   ]
  },
  {
   "cell_type": "markdown",
   "metadata": {},
   "source": [
    "## 二 . 闭型线性回归\n",
    "    下载数据集x06Simple.csv。基社盟的黑板上。\n",
    "    这个数据集的头信息在它的第一行，然后所有的后续行格式:\n",
    "    Rowid , x(i,1) , x(i,2) , y(i)\n",
    "    您的代码应该适用于任何CSV数据集:\n",
    "    第一列是头信息，第一列是某个整数索引，然后是实值特性的D列，最后是目标值\n",
    "### 写一个代码 :\n",
    "    1. 读取数据，忽略第一行(标题)和第一列(索引)。\n",
    "    2. 随机数据\n",
    "    3. 选择数据的前2/3(四舍五入)用于训练，其余的用于测试\n",
    "    4. 使用训练数据标准化数据(当然最后一列除外)\n",
    "    5. 计算线性回归的封闭解\n",
    "    6. 将解决方案应用于测试样本\n",
    "    7. 计算均方根误差(RMSE): \n",
    "   $$\\sqrt{\\frac{1}{N}\\sum_{i=1}^{N}(Y_i-\\hat{Y}_i)^2}$$\n",
    "   \n",
    "       其中，Y(i)hat为观测X(i)的预测值。\n",
    "### 实现细节 :\n",
    "    1. 在随机数据之前生成的随机数的种子\n",
    "    2. 不要忘记添加偏见功能!\n",
    "### 在你的报告中，你需要:\n",
    "    1. 最终模型为y=θ_0 + θ_1*x(:,1) + ... \n",
    "    2. 均方根误差。"
   ]
  },
  {
   "cell_type": "code",
   "execution_count": 5,
   "metadata": {},
   "outputs": [],
   "source": [
    "import numpy as np\n",
    "data = np.loadtxt('x06Simple.csv',delimiter=',',skiprows=1)"
   ]
  },
  {
   "cell_type": "code",
   "execution_count": 6,
   "metadata": {},
   "outputs": [],
   "source": [
    "# 打乱原数据\n",
    "data = data[:,1:]\n",
    "np.random.shuffle(data)"
   ]
  },
  {
   "cell_type": "code",
   "execution_count": 7,
   "metadata": {},
   "outputs": [
    {
     "data": {
      "text/plain": [
       "(44, 3)"
      ]
     },
     "execution_count": 7,
     "metadata": {},
     "output_type": "execute_result"
    }
   ],
   "source": [
    "data.shape"
   ]
  },
  {
   "cell_type": "code",
   "execution_count": 8,
   "metadata": {},
   "outputs": [
    {
     "data": {
      "text/plain": [
       "array([[ 111.,   27., 4495.],\n",
       "       [  14.,   31.,  590.],\n",
       "       [  28.,   27., 1215.],\n",
       "       [ 139.,   27., 4600.],\n",
       "       [  14.,   29.,  590.],\n",
       "       [  69.,   29., 3920.],\n",
       "       [  28.,   25., 1315.],\n",
       "       [  83.,   31., 3020.],\n",
       "       [  97.,   29., 4515.],\n",
       "       [ 125.,   27., 4535.],\n",
       "       [  97.,   31., 3030.],\n",
       "       [  83.,   25., 3535.],\n",
       "       [  97.,   27., 4315.],\n",
       "       [ 139.,   29., 4565.],\n",
       "       [ 153.,   25., 4600.],\n",
       "       [ 111.,   31., 3040.],\n",
       "       [  83.,   29., 3920.],\n",
       "       [  69.,   31., 2710.],\n",
       "       [  28.,   31., 1205.],\n",
       "       [  14.,   25.,  620.],\n",
       "       [ 111.,   25., 4465.],\n",
       "       [  69.,   27., 3255.],\n",
       "       [  55.,   29., 2890.],\n",
       "       [ 111.,   29., 4520.],\n",
       "       [  55.,   25., 2600.],\n",
       "       [ 125.,   25., 4530.],\n",
       "       [  83.,   27., 4015.],\n",
       "       [ 139.,   31., 3257.],\n",
       "       [  28.,   29., 1305.],\n",
       "       [ 139.,   25., 4570.],\n",
       "       [  69.,   25., 3110.],\n",
       "       [ 153.,   31., 3214.],\n",
       "       [ 125.,   29., 4525.],\n",
       "       [  41.,   27., 2110.],\n",
       "       [  97.,   25., 3935.],\n",
       "       [  55.,   27., 2805.],\n",
       "       [  41.,   29., 2140.],\n",
       "       [  14.,   27.,  625.],\n",
       "       [  55.,   31., 2140.],\n",
       "       [ 153.,   27., 4600.],\n",
       "       [ 153.,   29., 4566.],\n",
       "       [ 125.,   31., 3180.],\n",
       "       [  41.,   25., 2120.],\n",
       "       [  41.,   31., 1915.]])"
      ]
     },
     "execution_count": 8,
     "metadata": {},
     "output_type": "execute_result"
    }
   ],
   "source": [
    "data"
   ]
  },
  {
   "cell_type": "code",
   "execution_count": 9,
   "metadata": {},
   "outputs": [
    {
     "data": {
      "text/plain": [
       "29"
      ]
     },
     "execution_count": 9,
     "metadata": {},
     "output_type": "execute_result"
    }
   ],
   "source": [
    "boundary = int(data.shape[0]*2/3)\n",
    "boundary"
   ]
  },
  {
   "cell_type": "code",
   "execution_count": 10,
   "metadata": {},
   "outputs": [],
   "source": [
    "# 划分训练集和测试集\n",
    "Trainset,Testset = data[:boundary],data[boundary:]"
   ]
  },
  {
   "cell_type": "code",
   "execution_count": 11,
   "metadata": {},
   "outputs": [],
   "source": [
    "# 划分训练集测试集输入输出\n",
    "X_Train,y_Train,X_Test,y_Test = Trainset[:,:-1],Trainset[:,-1:],Testset[:,:-1],Testset[:,-1:]"
   ]
  },
  {
   "cell_type": "code",
   "execution_count": 12,
   "metadata": {},
   "outputs": [],
   "source": [
    "# 训练集均值\n",
    "mean = np.mean(X_Train,axis=0)"
   ]
  },
  {
   "cell_type": "code",
   "execution_count": 13,
   "metadata": {},
   "outputs": [],
   "source": [
    "# 训练集方差\n",
    "std = np.std(X_Train,axis=0,ddof=1)"
   ]
  },
  {
   "cell_type": "code",
   "execution_count": 14,
   "metadata": {},
   "outputs": [],
   "source": [
    "# 训练集标准化\n",
    "X_Train = (X_Train-mean)/std"
   ]
  },
  {
   "cell_type": "code",
   "execution_count": 15,
   "metadata": {},
   "outputs": [],
   "source": [
    "# 测试集标准化\n",
    "X_Test = (X_Test-mean)/std"
   ]
  },
  {
   "cell_type": "code",
   "execution_count": 16,
   "metadata": {},
   "outputs": [
    {
     "data": {
      "text/plain": [
       "(3143.862068965517, 1241.9939261204138, -179.61511817724443)"
      ]
     },
     "execution_count": 16,
     "metadata": {},
     "output_type": "execute_result"
    }
   ],
   "source": [
    "# 训练模型参数w\n",
    "from sklearn.linear_model import LinearRegression\n",
    "reg = LinearRegression()\n",
    "reg.fit(X_Train,y_Train)\n",
    "theta = (*reg.intercept_,*reg.coef_.flatten())\n",
    "theta"
   ]
  },
  {
   "cell_type": "code",
   "execution_count": 17,
   "metadata": {},
   "outputs": [
    {
     "data": {
      "text/plain": [
       "array([5082.05322025, 3025.02073039, 5013.15515825, 4350.4436823 ,\n",
       "       2042.10621446, 3847.83372633, 2453.51271243, 1882.00469447,\n",
       "       1248.67939694, 2133.30967245, 5333.35819823, 5173.25667824,\n",
       "       4190.34216231, 2202.20773444, 1721.90317448])"
      ]
     },
     "execution_count": 17,
     "metadata": {},
     "output_type": "execute_result"
    }
   ],
   "source": [
    "# 预测结果\n",
    "y_pred = np.dot(X_Test,theta[1:])+theta[0]\n",
    "y_pred"
   ]
  },
  {
   "cell_type": "code",
   "execution_count": 18,
   "metadata": {},
   "outputs": [
    {
     "data": {
      "text/plain": [
       "637.6829429482862"
      ]
     },
     "execution_count": 18,
     "metadata": {},
     "output_type": "execute_result"
    }
   ],
   "source": [
    "# 均方根误差RMSE\n",
    "RMSE = np.linalg.norm((y_pred - y_Test.T)/len(y_pred)**0.5)\n",
    "RMSE"
   ]
  },
  {
   "cell_type": "markdown",
   "metadata": {},
   "source": [
    "## 三. S-Folds交叉验证\n",
    "    交叉验证是一种技术，在我们没有那么多数据的情况下，用来获得可靠的评估结果(因此，很难对模型进行可靠的训练和/或测试)\n",
    "    在本节中，您将为几个不同的S值执行S- fold交叉验证。\n",
    "    每次运行时，您将把数据分成S部分(fold)，并使用S- fold交叉验证测试S不同的模型，并通过均方根误差评估。\n",
    "    此外，为了观察系统方差的影响，我们将重复这些实验几次(每次在创建褶皱之前对数据进行洗牌)。\n",
    "    我们将再次在提供的fish数据集上进行实验。您可以使用sklearn KFold来执行此任务。\n",
    "\n",
    "### 写一个代码:\n",
    "    1. 读取数据，忽略第一行(标题)和第一列(索引)。\n",
    "    2. 20次做以下事情:\n",
    "        (a)随机数据\n",
    "        (b)创建S折叠\n",
    "        (c)从i=1到S\n",
    "            I.选择fold i作为测试数据，其余的(S-1)折叠作为训练数据\n",
    "            II.根据培训对数据进行标准化(当然最后一栏除外)数据\n",
    "            III.训练一个封闭形式的线性回归模式\n",
    "            IV.计算当前测试折线中每个样本的平方误差\n",
    "        (d)你现在应该有N的平方误差。计算这些的RMSE。\n",
    "    3. 您现在应该有20个RMSE值。计算这些的平均值和标准偏差前者应该给我们一个更好的“总体”平均值，而后者应该给我们创建的模型的方差的感觉。\n",
    "### 实现细节:\n",
    "    1. 不要忘记添加偏见功能!\n",
    "    2. 在脚本的最开始设置您的种子值(如果您在20个测试中设置它，每个测试将拥有相同的随机打乱的数据!)\n",
    "### 在你的报告中，你需要:\n",
    "    1. S=3 对20个不同种子值的均方根误差的平均值和标准差。\n",
    "    2. S=5 对20个不同种子值的均方根误差的平均值和标准差。\n",
    "    3. S=20 对20个不同种子值的均方根误差的平均值和标准差。\n",
    "    4. S=N(其中N是样本的数量)对20个不同种子值的均方根误差的平均值和标准差。这基本上就是“留一送一”的交叉验证"
   ]
  },
  {
   "cell_type": "code",
   "execution_count": 19,
   "metadata": {},
   "outputs": [],
   "source": [
    "def s_folds_cross_validation(s,data):\n",
    "    import numpy as np\n",
    "    from sklearn.model_selection import KFold\n",
    "    from sklearn.linear_model import LinearRegression\n",
    "    kf = KFold(n_splits = s, shuffle=True)\n",
    "    RMSES = []\n",
    "    for train_index,test_index in kf.split(data):\n",
    "        Trainset,Testset = data[train_index],data[test_index]\n",
    "        X_Train,y_Train = Trainset[:,:-1:],Trainset[:,-1:]\n",
    "        X_Test,y_Test = Testset[:,:-1:],Testset[:,-1:]\n",
    "        mean = np.mean(X_Train,axis=0)\n",
    "        std = np.std(X_Train,axis=0,ddof=1)\n",
    "        X_Train = (X_Train-mean)/std\n",
    "        X_Test = (X_Test-mean)/std\n",
    "        reg = LinearRegression()\n",
    "        reg.fit(X_Train,y_Train)\n",
    "        theta = (*reg.intercept_,*reg.coef_.flatten())\n",
    "        y_pred = np.dot(X_Test,theta[1:])+theta[0]\n",
    "        RMSE = np.linalg.norm((y_pred - y_Test.T)/len(y_pred)**0.5)\n",
    "        RMSES.append(RMSE)\n",
    "    return np.mean(RMSES)"
   ]
  },
  {
   "cell_type": "code",
   "execution_count": 20,
   "metadata": {},
   "outputs": [],
   "source": [
    "def s_folds_n_times(s,n):\n",
    "    return [s_folds_cross_validation(s,data) for _ in range(n)]"
   ]
  },
  {
   "cell_type": "code",
   "execution_count": 21,
   "metadata": {},
   "outputs": [
    {
     "name": "stdout",
     "output_type": "stream",
     "text": [
      "620.4532107744999\n",
      "22.332425560895793\n"
     ]
    }
   ],
   "source": [
    "# S = 3 , 20times\n",
    "rmse = s_folds_n_times(3,20)\n",
    "print(np.mean(rmse))\n",
    "print(np.std(rmse,ddof=1))"
   ]
  },
  {
   "cell_type": "code",
   "execution_count": 22,
   "metadata": {},
   "outputs": [
    {
     "name": "stdout",
     "output_type": "stream",
     "text": [
      "611.2122397270917\n",
      "21.371943315681815\n"
     ]
    }
   ],
   "source": [
    "# S = 5 , 20times\n",
    "rmse = s_folds_n_times(5,20)\n",
    "print(np.mean(rmse))\n",
    "print(np.std(rmse,ddof=1))"
   ]
  },
  {
   "cell_type": "code",
   "execution_count": 23,
   "metadata": {},
   "outputs": [
    {
     "name": "stdout",
     "output_type": "stream",
     "text": [
      "553.7330738866244\n",
      "16.117874169567692\n"
     ]
    }
   ],
   "source": [
    "# S = 20 , 20times\n",
    "rmse = s_folds_n_times(20,20)\n",
    "print(np.mean(rmse))\n",
    "print(np.std(rmse,ddof=1))"
   ]
  },
  {
   "cell_type": "code",
   "execution_count": 24,
   "metadata": {},
   "outputs": [
    {
     "name": "stdout",
     "output_type": "stream",
     "text": [
      "493.4732598766559\n",
      "6.116665495585157e-14\n"
     ]
    }
   ],
   "source": [
    "# S = N , 20times\n",
    "rmse = s_folds_n_times(data.shape[0],20)\n",
    "print(np.mean(rmse))\n",
    "print(np.std(rmse,ddof=1))"
   ]
  },
  {
   "cell_type": "markdown",
   "metadata": {},
   "source": [
    "## 四. 局部加权线性回归接下来我们将做局部加权闭型线性回归。对于这一部分，可以使用sklearn train_test _split\n",
    "\n",
    "### 写一个脚本:\n",
    "    1. 读取数据，忽略第一行(标题)和第一列(索引)。\n",
    "    2. 随机数据\n",
    "    3. 选择数据的前2/3用于训练，其余的用于测试\n",
    "    4. 使用培训数据标准化数据(当然最后一列除外)\n",
    "    5. 然后为每个测试样本\n",
    "        (a) 计算与训练数据相关的必要距离矩阵，以便计算局部模型\n",
    "        (b) 使用本地模型评估测试样本。\n",
    "        (c) 计算测试样本的平方误差。\n",
    "    6. 计算均方根误差(RMSE): NY -)。式中，Y为观测X的预测值.\n",
    "    \n",
    "### 实现细节:\n",
    "    1. 在随机数据之前生成的随机数的种子\n",
    "    2. 不要忘记添加偏见功能!\n",
    "    3. 使用L1距离计算距离d(a, b)。\n",
    "    4. 设相似度函数B(a.b)中的k=1 =e-d(a.b)/25. 在计算局部模型时使用所有的训练实例。\n",
    "\n",
    "### 在你的报告中，你需要:\n",
    "    1. 均方根误差。"
   ]
  },
  {
   "cell_type": "code",
   "execution_count": 25,
   "metadata": {},
   "outputs": [],
   "source": [
    "def calculate_weight(X,x):\n",
    "    return np.diag([np.exp(-abs(sum(i-x))) for i in X])"
   ]
  },
  {
   "cell_type": "code",
   "execution_count": 26,
   "metadata": {},
   "outputs": [],
   "source": [
    "W = calculate_weight(X_Train,X_Test[0])"
   ]
  },
  {
   "cell_type": "code",
   "execution_count": 27,
   "metadata": {},
   "outputs": [],
   "source": [
    "def fit(X_Train,y_Train):\n",
    "    X_Train = np.hstack((np.ones((X_Train.shape[0],1)),X_Train))\n",
    "    return (*np.dot(np.dot(np.dot(np.linalg.inv(np.dot(np.dot(X_Train.T,W),X_Train)),X_Train.T),W),y_Train).flatten(),)"
   ]
  },
  {
   "cell_type": "code",
   "execution_count": 28,
   "metadata": {},
   "outputs": [
    {
     "data": {
      "text/plain": [
       "(3335.0716688159114, 1238.6924858271414, -127.37085560190218)"
      ]
     },
     "execution_count": 28,
     "metadata": {},
     "output_type": "execute_result"
    }
   ],
   "source": [
    "theta = fit(X_Train,y_Train)\n",
    "theta"
   ]
  },
  {
   "cell_type": "code",
   "execution_count": 29,
   "metadata": {},
   "outputs": [
    {
     "data": {
      "text/plain": [
       "394510.8527956655"
      ]
     },
     "execution_count": 29,
     "metadata": {},
     "output_type": "execute_result"
    }
   ],
   "source": [
    "y_pred = np.dot(X_Test[0],theta[1:])+theta[0]\n",
    "SE = (y_pred - y_Test[0])**2\n",
    "SE[0]"
   ]
  },
  {
   "cell_type": "code",
   "execution_count": 30,
   "metadata": {},
   "outputs": [],
   "source": [
    "def squared_error(X_Train,y_Train,x,y):\n",
    "    W = calculate_weight(X_Train,x)\n",
    "    theta = fit(X_Train,y_Train)\n",
    "    y_pred = np.dot(x,theta[1:])+theta[0]\n",
    "    se = (y_pred - y)**2\n",
    "    return se"
   ]
  },
  {
   "cell_type": "code",
   "execution_count": 31,
   "metadata": {},
   "outputs": [
    {
     "data": {
      "text/plain": [
       "751.8639094440862"
      ]
     },
     "execution_count": 31,
     "metadata": {},
     "output_type": "execute_result"
    }
   ],
   "source": [
    "rmse = np.sqrt(sum([squared_error(X_Train,y_Train,X_Test[i],y_Test[i]) for i in range(X_Test.shape[0])])/X_Test.shape[0])\n",
    "rmse[0]"
   ]
  },
  {
   "cell_type": "code",
   "execution_count": 32,
   "metadata": {},
   "outputs": [
    {
     "name": "stdout",
     "output_type": "stream",
     "text": [
      "[605.80674642]\n",
      "[773.3213806]\n",
      "[556.46939952]\n",
      "[736.76000664]\n",
      "[549.00763401]\n",
      "[628.79627239]\n",
      "[735.39222925]\n",
      "[705.34972611]\n",
      "[799.48231631]\n",
      "[607.04757473]\n"
     ]
    }
   ],
   "source": [
    "for i in range(10):\n",
    "    np.random.shuffle(data)\n",
    "    boundary = int(data.shape[0]*2/3)\n",
    "    Trainset,Testset = data[:boundary],data[boundary:]\n",
    "    X_Train,y_Train,X_Test,y_Test = Trainset[:,:-1],Trainset[:,-1:],Testset[:,:-1],Testset[:,-1:]\n",
    "    mean = np.mean(X_Train,axis=0)\n",
    "    std = np.std(X_Train,axis=0,ddof=1)\n",
    "    X_Train = (X_Train-mean)/std\n",
    "    X_Test = (X_Test-mean)/std\n",
    "    print(np.sqrt(sum([squared_error(X_Train,y_Train,X_Test[i],y_Test[i]) for i in range(X_Test.shape[0])])/X_Test.shape[0]))"
   ]
  },
  {
   "cell_type": "markdown",
   "metadata": {},
   "source": [
    "## 五. 梯度下降法\n",
    "    正如在类中所讨论的那样，梯度下降(Ascent)是一种通用算法，当封闭形式的解不可用或无法计算时，它允许我们收敛于局部最小值(maxima)。\n",
    "    在这一节中，您将实现一个梯度下降算法，以找到在前几节中使用的相同数据上进行线性回归的参数。\n",
    "    你不能使用ML库的任何函数来为vou做这个。除了数据的sklearn train_test分割。\n",
    "\n",
    "### 实现细节:\n",
    "    1. 在算法之前生成随机数生成器。\n",
    "    2. 不要忘记一个偏见的特征!\n",
    "    3. 在[- 1,1]范围内使用随机值初始化8的参数\n",
    "    4. 分批梯度下降\n",
    "    5. 当训练数据的RMSE中百分比变化的绝对值小于2^-23时终止，或者在经过1000次迭代之后(以先发生的为例)。\n",
    "    6. 使用学习率n= 0.01. \n",
    "    7. 确保您的代码可以适用于任意数量的观察和任意数量的特性。\n",
    "\n",
    "### 写一个脚本:\n",
    "    1. 读取数据，忽略第一行(标题)和第一列(索引)。\n",
    "    2. 随机数据\n",
    "    3. 选择数据的前2/3(四舍五入)用于训练，其余的用于测试\n",
    "    4. 根据培训数据标准化数据(当然最后一列除外)\n",
    "    5. 而终止标准(在实现细节中提到的)没有被满足\n",
    "        (a)计算训练数据的RMSE\n",
    "        (b)虽然我们不能让测试集影响我们的训练过程，但也要计算算法每次迭代时测试误差的RMSE(这将很有趣)\n",
    "        (c)使用批量梯度下降更新每个参数\n",
    "    6. 计算测试数据的RMSE。\n",
    "\n",
    "### 你的报告需要什么:\n",
    "    1. 最终的模型\n",
    "    2. 一个RMSE的图，如果训练和测试集作为迭代的函数\n",
    "    3. 最终的RMSE测试错误。"
   ]
  },
  {
   "cell_type": "code",
   "execution_count": 33,
   "metadata": {},
   "outputs": [
    {
     "data": {
      "text/plain": [
       "array([[1.],\n",
       "       [1.],\n",
       "       [1.]])"
      ]
     },
     "execution_count": 33,
     "metadata": {},
     "output_type": "execute_result"
    }
   ],
   "source": [
    "theta = np.ones(X_Train.shape[1]+1).reshape(-1,1)\n",
    "theta"
   ]
  },
  {
   "cell_type": "code",
   "execution_count": 34,
   "metadata": {},
   "outputs": [],
   "source": [
    "X_Train = np.hstack((np.ones((X_Train.shape[0],1)),X_Train))\n",
    "X_Test = np.hstack((np.ones((X_Test.shape[0],1)),X_Test))"
   ]
  },
  {
   "cell_type": "code",
   "execution_count": 35,
   "metadata": {},
   "outputs": [
    {
     "data": {
      "text/plain": [
       "array([[-179344.        ],\n",
       "       [ -66768.24210012],\n",
       "       [  22248.06322449]])"
      ]
     },
     "execution_count": 35,
     "metadata": {},
     "output_type": "execute_result"
    }
   ],
   "source": [
    "partial = 2*np.dot(X_Train.T,np.dot(X_Train,theta)-y_Train)\n",
    "partial"
   ]
  },
  {
   "cell_type": "code",
   "execution_count": 36,
   "metadata": {},
   "outputs": [],
   "source": [
    "eta = 0.01"
   ]
  },
  {
   "cell_type": "code",
   "execution_count": 37,
   "metadata": {},
   "outputs": [
    {
     "data": {
      "text/plain": [
       "array([[1794.44      ],\n",
       "       [ 668.682421  ],\n",
       "       [-221.48063224]])"
      ]
     },
     "execution_count": 37,
     "metadata": {},
     "output_type": "execute_result"
    }
   ],
   "source": [
    "theta = theta - eta * partial\n",
    "theta"
   ]
  },
  {
   "cell_type": "code",
   "execution_count": 38,
   "metadata": {},
   "outputs": [
    {
     "data": {
      "text/plain": [
       "1512.9376301780985"
      ]
     },
     "execution_count": 38,
     "metadata": {},
     "output_type": "execute_result"
    }
   ],
   "source": [
    "y_hat = np.dot(X_Train,theta)\n",
    "RMSE_Train = np.linalg.norm((y_hat - y_Train)/len(y_hat)**0.5)\n",
    "RMSE_Train"
   ]
  },
  {
   "cell_type": "code",
   "execution_count": 39,
   "metadata": {},
   "outputs": [
    {
     "data": {
      "text/plain": [
       "1545.0563783029374"
      ]
     },
     "execution_count": 39,
     "metadata": {},
     "output_type": "execute_result"
    }
   ],
   "source": [
    "y_pred = np.dot(X_Test,theta)\n",
    "RMSE_Test = np.linalg.norm((y_pred - y_Test)/len(y_pred)**0.5)\n",
    "RMSE_Test"
   ]
  },
  {
   "cell_type": "code",
   "execution_count": 40,
   "metadata": {},
   "outputs": [],
   "source": [
    "def batch_gradient_decent(data=data,eta=0.01,iterations=1000,threshold=2**(-23)):\n",
    "    np.random.shuffle(data)\n",
    "    boundary = int(data.shape[0]*2/3)\n",
    "    Trainset,Testset = data[:boundary],data[boundary:]\n",
    "    X_Train,y_Train,X_Test,y_Test = Trainset[:,:-1],Trainset[:,-1:],Testset[:,:-1],Testset[:,-1:]\n",
    "    mean = np.mean(X_Train,axis=0)\n",
    "    std = np.std(X_Train,axis=0,ddof=1)\n",
    "    X_Train = (X_Train-mean)/std\n",
    "    X_Test = (X_Test-mean)/std\n",
    "    theta = np.ones(X_Train.shape[1]+1).reshape(-1,1)\n",
    "    X_Train = np.hstack((np.ones((X_Train.shape[0],1)),X_Train))\n",
    "    X_Test = np.hstack((np.ones((X_Test.shape[0],1)),X_Test))\n",
    "    i = 0\n",
    "    change = threshold + 1\n",
    "    RMSE_Train,RMSE_Test = {},{}\n",
    "    while change >= threshold and i < iterations:\n",
    "        y_hat = np.dot(X_Train,theta)\n",
    "        rmse_Train = np.linalg.norm((y_hat - y_Train)/len(y_hat)**0.5)\n",
    "        RMSE_Train[i] = rmse_Train\n",
    "        y_pred = np.dot(X_Test,theta)\n",
    "        rmse_Test = np.linalg.norm((y_pred - y_Test)/len(y_pred)**0.5)\n",
    "        RMSE_Test[i] = rmse_Test\n",
    "        partial = 2*np.dot(X_Train.T,np.dot(X_Train,theta)-y_Train)\n",
    "        theta = theta - eta * partial\n",
    "        change = abs(RMSE_Train[i]-RMSE_Train[i-1]) if i else change\n",
    "        i += 1\n",
    "    return (*theta.flatten(),),RMSE_Train,RMSE_Test"
   ]
  },
  {
   "cell_type": "code",
   "execution_count": 41,
   "metadata": {},
   "outputs": [],
   "source": [
    "theta,RMSE_Train,RMSE_Test = batch_gradient_decent()"
   ]
  },
  {
   "cell_type": "code",
   "execution_count": 42,
   "metadata": {},
   "outputs": [
    {
     "data": {
      "text/plain": [
       "(2953.5171552445895, 1104.7660621785467, -287.9692910373113)"
      ]
     },
     "execution_count": 42,
     "metadata": {},
     "output_type": "execute_result"
    }
   ],
   "source": [
    "theta"
   ]
  },
  {
   "cell_type": "code",
   "execution_count": 43,
   "metadata": {},
   "outputs": [
    {
     "data": {
      "image/png": "[encoded data removed]",
      "text/plain": [
       "<Figure size 432x288 with 1 Axes>"
      ]
     },
     "metadata": {
      "needs_background": "light"
     },
     "output_type": "display_data"
    }
   ],
   "source": [
    "import matplotlib.pyplot as plt\n",
    "plt.plot(RMSE_Train.keys(),RMSE_Train.values(),color=\"red\",label=\"RMSE_Train\")\n",
    "plt.plot(RMSE_Test.keys(),RMSE_Test.values(),color=\"blue\",label=\"RMSE_Test\")\n",
    "plt.xticks(range(len(RMSE_Train)))\n",
    "plt.xlabel('iterations')\n",
    "plt.ylabel('RMSE')\n",
    "plt.legend()\n",
    "plt.show()"
   ]
  },
  {
   "cell_type": "code",
   "execution_count": 44,
   "metadata": {},
   "outputs": [
    {
     "data": {
      "text/plain": [
       "525.4078476456896"
      ]
     },
     "execution_count": 44,
     "metadata": {},
     "output_type": "execute_result"
    }
   ],
   "source": [
    "final_Test_RMSE = [*RMSE_Test.values()][-1]\n",
    "final_Test_RMSE"
   ]
  },
  {
   "cell_type": "markdown",
   "metadata": {},
   "source": [
    "## 提交\n",
    "### 请将一个zip文件上传到Blackboard，该文件包含:\n",
    "    1. PDF那样\n",
    "    2. Jupyter笔记本的源代码\n",
    "\n",
    "### PDF文件应包括以下内容:\n",
    "    1. 第1部分:\n",
    "        (a)你对理论问题的解答\n",
    "    2. 第2部分:\n",
    "        (a)最终的模型\n",
    "        (b) RMSE\n",
    "    3. 第3部分:\n",
    "        (a)不同S值的RMSE的均值和标准差。\n",
    "    4. 第4部分:\n",
    "        (a)RMSE\n",
    "    5. 第5部分:\n",
    "        (a)最终的模型\n",
    "        (b) RMSE\n",
    "        (c)用于训练和测试数据的RMSE与梯度下降迭代数的图"
   ]
  },
  {
   "cell_type": "code",
   "execution_count": null,
   "metadata": {},
   "outputs": [],
   "source": []
  }
 ],
 "metadata": {
  "kernelspec": {
   "display_name": "Python 3",
   "language": "python",
   "name": "python3"
  },
  "language_info": {
   "codemirror_mode": {
    "name": "ipython",
    "version": 3
   },
   "file_extension": ".py",
   "mimetype": "text/x-python",
   "name": "python",
   "nbconvert_exporter": "python",
   "pygments_lexer": "ipython3",
   "version": "3.7.2"
  }
 },
 "nbformat": 4,
 "nbformat_minor": 4
}
